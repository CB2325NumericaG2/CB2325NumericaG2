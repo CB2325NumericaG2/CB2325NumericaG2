{
 "cells": [
  {
   "cell_type": "markdown",
   "metadata": {},
   "source": [
    "# Plots de Aproximacao\n",
    "\n",
    "Este notebook reune os graficos de:\n",
    "- Ajuste linear por minimos quadrados\n",
    "- Ajuste linear por Theil-Sen"
   ]
  },
  {
   "cell_type": "code",
   "execution_count": null,
   "metadata": {},
   "outputs": [],
   "source": [
    "# Garante import do pacote 'aproximacao' mesmo ao executar a partir de subpastas\n",
    "import sys\n",
    "from pathlib import Path\n",
    "\n",
    "def _add_src_to_sys_path():\n",
    "    cwd = Path().resolve()\n",
    "    for base in (cwd, *cwd.parents):\n",
    "        candidate = base / 'src'\n",
    "        if candidate.is_dir():\n",
    "            sys.path.insert(0, str(candidate))\n",
    "            return\n",
    "    raise RuntimeError(\"Nao encontrei a pasta 'src' em nenhum diretorio pai.\")\n",
    "\n",
    "_add_src_to_sys_path()\n",
    "print('sys.path[0]:', sys.path[0])"
   ]
  },
  {
   "cell_type": "code",
   "execution_count": null,
   "metadata": {},
   "outputs": [],
   "source": [
    "import numpy as np\n",
    "from aproximacao.plotagem.plot_linear_minimos_quadrados import plot_linear_minimos_quadrados\n",
    "from aproximacao.plotagem.plot_linear_theil_sen import plot_linear_theil_sen\n",
    "\n",
    "# Dados sinteticos (reta com ruido)\n",
    "rng = np.random.default_rng(42)\n",
    "x = np.linspace(0, 10, 20)\n",
    "y = 2.0 * x + 1.5 + rng.normal(0, 1.0, size=x.size)\n",
    "\n",
    "x_list = x.tolist()\n",
    "y_list = y.tolist()\n",
    "\n",
    "print('Plot: Minimos Quadrados (dados com ruido)')\n",
    "plot_linear_minimos_quadrados(x_list, y_list)\n",
    "\n",
    "print('Plot: Theil-Sen (dados com ruido)')\n",
    "plot_linear_theil_sen(x_list, y_list)"
   ]
  },
  {
   "cell_type": "code",
   "execution_count": null,
   "metadata": {},
   "outputs": [],
   "source": [
    "# Caso de reta vertical (todos x iguais)\n",
    "x_v = [3.0] * 6\n",
    "y_v = [0, 1, 2, 3, 4, 5]\n",
    "\n",
    "print('Plot: Minimos Quadrados (reta vertical)')\n",
    "plot_linear_minimos_quadrados(x_v, y_v)\n",
    "\n",
    "print('Plot: Theil-Sen (reta vertical)')\n",
    "plot_linear_theil_sen(x_v, y_v)"
   ]
  }
 ],
 "metadata": {
  "kernelspec": {
   "display_name": "Python 3",
   "language": "python",
   "name": "python3"
  },
  "language_info": {
   "name": "python",
   "version": "3"
  }
 },
 "nbformat": 4,
 "nbformat_minor": 5
}
