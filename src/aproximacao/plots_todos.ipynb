{
 "cells": [
  {
   "cell_type": "markdown",
   "metadata": {},
   "source": [
    "# Plots de Aproximação\n",
    "\n",
    "Este notebook reúne os gráficos de:\n",
    "- Ajuste linear por mínimos quadrados\n",
    "- Ajuste linear por Theil–Sen"
   ]
  },
  {
   "cell_type": "code",
   "execution_count": 1,
   "metadata": {},
   "outputs": [
    {
     "ename": "ModuleNotFoundError",
     "evalue": "No module named 'aproximacao.plotagem'; 'aproximacao' is not a package",
     "output_type": "error",
     "traceback": [
      "\u001b[31m---------------------------------------------------------------------------\u001b[39m",
      "\u001b[31mModuleNotFoundError\u001b[39m                       Traceback (most recent call last)",
      "\u001b[36mCell\u001b[39m\u001b[36m \u001b[39m\u001b[32mIn[1]\u001b[39m\u001b[32m, line 2\u001b[39m\n\u001b[32m      1\u001b[39m \u001b[38;5;28;01mimport\u001b[39;00m\u001b[38;5;250m \u001b[39m\u001b[34;01mnumpy\u001b[39;00m\u001b[38;5;250m \u001b[39m\u001b[38;5;28;01mas\u001b[39;00m\u001b[38;5;250m \u001b[39m\u001b[34;01mnp\u001b[39;00m\n\u001b[32m----> \u001b[39m\u001b[32m2\u001b[39m \u001b[38;5;28;01mfrom\u001b[39;00m\u001b[38;5;250m \u001b[39m\u001b[34;01maproximacao\u001b[39;00m\u001b[34;01m.\u001b[39;00m\u001b[34;01mplotagem\u001b[39;00m\u001b[34;01m.\u001b[39;00m\u001b[34;01mplot_linear_minimos_quadrados\u001b[39;00m\u001b[38;5;250m \u001b[39m\u001b[38;5;28;01mimport\u001b[39;00m plot_linear_minimos_quadrados\n\u001b[32m      3\u001b[39m \u001b[38;5;28;01mfrom\u001b[39;00m\u001b[38;5;250m \u001b[39m\u001b[34;01maproximacao\u001b[39;00m\u001b[34;01m.\u001b[39;00m\u001b[34;01mplotagem\u001b[39;00m\u001b[34;01m.\u001b[39;00m\u001b[34;01mplot_linear_theil_sen\u001b[39;00m\u001b[38;5;250m \u001b[39m\u001b[38;5;28;01mimport\u001b[39;00m plot_linear_theil_sen\n\u001b[32m      5\u001b[39m \u001b[38;5;66;03m# Dados sintéticos (reta com ruído)\u001b[39;00m\n",
      "\u001b[31mModuleNotFoundError\u001b[39m: No module named 'aproximacao.plotagem'; 'aproximacao' is not a package"
     ]
    }
   ],
   "source": [
    "import numpy as np\n",
    "from aproximacao.plotagem.plot_linear_minimos_quadrados import plot_linear_minimos_quadrados\n",
    "from aproximacao.plotagem.plot_linear_theil_sen import plot_linear_theil_sen\n",
    "\n",
    "# Dados sintéticos (reta com ruído)\n",
    "rng = np.random.default_rng(42)\n",
    "x = np.linspace(0, 10, 20)\n",
    "y = 2.0 * x + 1.5 + rng.normal(0, 1.0, size=x.size)\n",
    "\n",
    "x_list = x.tolist()\n",
    "y_list = y.tolist()\n",
    "\n",
    "print('Plot: Mínimos Quadrados (dados com ruído)')\n",
    "plot_linear_minimos_quadrados(x_list, y_list)\n",
    "\n",
    "print('Plot: Theil–Sen (dados com ruído)')\n",
    "plot_linear_theil_sen(x_list, y_list)"
   ]
  },
  {
   "cell_type": "code",
   "execution_count": null,
   "metadata": {},
   "outputs": [],
   "source": [
    "# Caso de reta vertical (todos x iguais)\n",
    "x_v = [3.0] * 6\n",
    "y_v = [0, 1, 2, 3, 4, 5]\n",
    "\n",
    "print('Plot: Mínimos Quadrados (reta vertical)')\n",
    "plot_linear_minimos_quadrados(x_v, y_v)\n",
    "\n",
    "print('Plot: Theil–Sen (reta vertical)')\n",
    "plot_linear_theil_sen(x_v, y_v)"
   ]
  }
 ],
 "metadata": {
  "kernelspec": {
   "display_name": "Python 3",
   "language": "python",
   "name": "python3"
  },
  "language_info": {
   "codemirror_mode": {
    "name": "ipython",
    "version": 3
   },
   "file_extension": ".py",
   "mimetype": "text/x-python",
   "name": "python",
   "nbconvert_exporter": "python",
   "pygments_lexer": "ipython3",
   "version": "3.13.2"
  }
 },
 "nbformat": 4,
 "nbformat_minor": 5
}
