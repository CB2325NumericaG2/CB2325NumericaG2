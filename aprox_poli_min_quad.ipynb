{
 "cells": [
  {
   "cell_type": "code",
   "execution_count": 2,
   "id": "54b97830",
   "metadata": {},
   "outputs": [],
   "source": [
    "import numpy as np"
   ]
  },
  {
   "cell_type": "code",
   "execution_count": 3,
   "id": "148e07c4",
   "metadata": {},
   "outputs": [],
   "source": [
    "def ajuste_polinomial_min_quadrados(x: list[float], y: list[float], grau: int, cond_thresh=1e12):\n",
    "    x = np.asarray(x, dtype=float)\n",
    "    y = np.asarray(y, dtype=float)\n",
    "\n",
    "    # Vamos criar uma matriz (n x m)\n",
    "    # n é o grau do polinômio \n",
    "    # m é o número de coordenadas que o usuário utilizar\n",
    "\n",
    "    m = len(x)\n",
    "    \n",
    "    if m != len(y): \n",
    "        # O usuário errou ao enviar dados para a função.\n",
    "        raise ValueError(f\"len(x)={m} diferente de len(y)={len(y)}\")\n",
    "    \n",
    "    # Teste direto de reta vertical\n",
    "    if np.allclose(x, x[0]):\n",
    "        # Todos os valores de x são iguais → reta vertical\n",
    "        return np.array([x[0], True], dtype=object)\n",
    "    \n",
    "    # Reduz o grau se houver menos pontos que coeficientes\n",
    "    if m < grau + 1:\n",
    "        return ajuste_polinomial_min_quadrados(x, y, m - 1, cond_thresh)\n",
    "    \n",
    "    # Matriz de Vandermonde\n",
    "    X = np.vander(x, grau + 1, increasing=True)\n",
    "    \n",
    "    # Número máximo de colunas linearmente independentes\n",
    "    sigma = np.linalg.svd(X, compute_uv=False)\n",
    "    # Tolerância baseada no condicionamento numérico\n",
    "    _tol = sigma[0] / cond_thresh\n",
    "    rank = np.linalg.matrix_rank(X, tol=_tol)\n",
    "    \n",
    "    # Ajusta o grau com base no posto da matriz\n",
    "    if rank < X.shape[1]:\n",
    "        X = np.vander(x, rank, increasing=True)\n",
    "    \n",
    "    # Lista dos coeficientes do polinômio via mínimos quadrados diretos\n",
    "    a = np.linalg.inv(X.T @ X) @ X.T @ y\n",
    "\n",
    "    # O último valor do array indica se a função é uma reta vertical\n",
    "    a = np.append(a, False)\n",
    "\n",
    "    return a"
   ]
  }
 ],
 "metadata": {
  "kernelspec": {
   "display_name": "Python 3",
   "language": "python",
   "name": "python3"
  },
  "language_info": {
   "codemirror_mode": {
    "name": "ipython",
    "version": 3
   },
   "file_extension": ".py",
   "mimetype": "text/x-python",
   "name": "python",
   "nbconvert_exporter": "python",
   "pygments_lexer": "ipython3",
   "version": "3.11.9"
  }
 },
 "nbformat": 4,
 "nbformat_minor": 5
}
